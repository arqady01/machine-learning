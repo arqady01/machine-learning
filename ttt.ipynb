你好

**我是呵呵呵**
person = {"name": "Alice", "age": 25, "city": "New York"}
for keyg, value in person.items():
    print(f"{keyg}: {value}")
