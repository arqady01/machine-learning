{
  "nbformat": 4,
  "nbformat_minor": 0,
  "metadata": {
    "colab": {
      "provenance": []
    },
    "kernelspec": {
      "name": "python3",
      "display_name": "Python 3"
    },
    "language_info": {
      "name": "python"
    }
  },
  "cells": [
    {
      "cell_type": "markdown",
      "source": [
        "你好\n",
        "\n",
        "**我是呵呵呵**"
      ],
      "metadata": {
        "id": "iaDsvJiPgsmA"
      }
    },
    {
      "cell_type": "code",
      "source": [
        "person = {\"name\": \"Alice\", \"age\": 25, \"city\": \"New York\"}\n",
        "for keyg, value in person.items():\n",
        "    print(f\"{keyg}: {value}\")"
      ],
      "metadata": {
        "id": "uCnNixB9g0lx",
        "outputId": "39368f1d-e7bd-4e89-a22b-3d56492b3114",
        "colab": {
          "base_uri": "https://localhost:8080/"
        }
      },
      "execution_count": null,
      "outputs": [
        {
          "output_type": "stream",
          "name": "stdout",
          "text": [
            "name: Alice\n",
            "age: 25\n",
            "city: New York\n"
          ]
        }
      ]
    }
  ]
}
